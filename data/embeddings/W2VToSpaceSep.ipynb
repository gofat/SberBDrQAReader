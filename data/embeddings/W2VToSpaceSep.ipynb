{
 "cells": [
  {
   "cell_type": "code",
   "execution_count": 1,
   "metadata": {},
   "outputs": [
    {
     "name": "stderr",
     "output_type": "stream",
     "text": [
      "Using TensorFlow backend.\n"
     ]
    }
   ],
   "source": [
    "from gensim.models.keyedvectors import KeyedVectors\n",
    "from tqdm import tqdm"
   ]
  },
  {
   "cell_type": "code",
   "execution_count": 2,
   "metadata": {},
   "outputs": [],
   "source": [
    "w2v = KeyedVectors.load_word2vec_format(\"ruwikiruscorpora_0_300_20.bin.gz\", binary=True)"
   ]
  },
  {
   "cell_type": "code",
   "execution_count": 3,
   "metadata": {},
   "outputs": [
    {
     "name": "stderr",
     "output_type": "stream",
     "text": [
      "100%|██████████| 392339/392339 [00:01<00:00, 349332.57it/s]\n"
     ]
    }
   ],
   "source": [
    "word_vecs = {}\n",
    "for word in tqdm(w2v.vocab):\n",
    "    vec = w2v[word]\n",
    "    word = word.replace(\"::\", \"_\")\n",
    "    word = word.split(\"_\")[0]\n",
    "    word_vecs[word] = vec"
   ]
  },
  {
   "cell_type": "code",
   "execution_count": 7,
   "metadata": {},
   "outputs": [
    {
     "name": "stderr",
     "output_type": "stream",
     "text": [
      "100%|██████████| 334157/334157 [01:02<00:00, 5363.95it/s]\n"
     ]
    }
   ],
   "source": [
    "outfile = open(\"ruwiki_300.txt\", \"w\")\n",
    "for word, vec in tqdm(word_vecs.items()):\n",
    "    vec = \" \".join([str(i) for i in vec])\n",
    "    wordvec = \" \".join([word, vec])\n",
    "    outfile.write(wordvec + \"\\n\")"
   ]
  }
 ],
 "metadata": {
  "kernelspec": {
   "display_name": "Python 3",
   "language": "python",
   "name": "python3"
  },
  "language_info": {
   "codemirror_mode": {
    "name": "ipython",
    "version": 3
   },
   "file_extension": ".py",
   "mimetype": "text/x-python",
   "name": "python",
   "nbconvert_exporter": "python",
   "pygments_lexer": "ipython3",
   "version": "3.5.2"
  }
 },
 "nbformat": 4,
 "nbformat_minor": 2
}
